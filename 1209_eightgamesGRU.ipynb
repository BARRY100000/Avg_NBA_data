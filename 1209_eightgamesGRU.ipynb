{
 "cells": [
  {
   "cell_type": "code",
   "execution_count": 1,
   "metadata": {
    "id": "9f-IQ5ei7VcY"
   },
   "outputs": [
    {
     "name": "stderr",
     "output_type": "stream",
     "text": [
      "C:\\Users\\barry\\AppData\\Roaming\\Python\\Python310\\site-packages\\scipy\\__init__.py:169: UserWarning: A NumPy version >=1.18.5 and <1.26.0 is required for this version of SciPy (detected version 1.26.4\n",
      "  warnings.warn(f\"A NumPy version >={np_minversion} and <{np_maxversion}\"\n"
     ]
    }
   ],
   "source": [
    "import pandas as pd\n",
    "import numpy as np\n",
    "from sklearn.model_selection import train_test_split\n",
    "from tensorflow.keras.models import Sequential\n",
    "from tensorflow.keras.layers import Dense\n",
    "from tensorflow.keras.utils import to_categorical\n",
    "from sklearn.preprocessing import StandardScaler\n",
    "from tensorflow.keras.layers import Dense, Dropout\n",
    "\n"
   ]
  },
  {
   "cell_type": "code",
   "execution_count": 2,
   "metadata": {
    "colab": {
     "base_uri": "https://localhost:8080/"
    },
    "id": "xtJExQ4c21nY",
    "outputId": "a3e85f4b-897c-427a-8db7-4646cae2fed0"
   },
   "outputs": [
    {
     "name": "stdout",
     "output_type": "stream",
     "text": [
      "['gameid', 'playerid', 'plusminusPTS', 'estNETRTG', 'REBpct', 'estOFFRTG', 'DRB', 'FTM', 'uncontestedFGM', 'passes', 'ASTpct', 'touches', 'estUSGpct', 'oppPIP', 'TRB', 'oppFBPTS', 'PTS', 'estpace', 'FGpct', 'pie', 'DIST', 'defendedatrimFGA', 'BLK', '2ndPTS', 'TOVratio', 'pace', 'paceper40', '2ndAST', 'contestedFGA', 'OFFRTG', 'TSpct', 'FGM', '3Ppct', 'FTAST', 'STL', 'defendedatrimFGM', 'SEC', 'defendedatrimFGpct', 'oppPTSoffTOV', 'FBPTS', 'contestedFGM', '3PM', 'name', 'PIP', 'SPD', 'FTpct', 'PTSoffTOV', 'DEFRTG', 'team', 'home', 'win']\n"
     ]
    }
   ],
   "source": [
    "file_path = 'content/selected_columns_s2.txt'\n",
    "\n",
    "with open(file_path, 'r') as file:\n",
    "    selected_columns = [line.strip() for line in file]\n",
    "\n",
    "print(selected_columns)"
   ]
  },
  {
   "cell_type": "code",
   "execution_count": 3,
   "metadata": {},
   "outputs": [],
   "source": [
    "# selected_columns.append(\"gameid\")\n",
    "# selected_columns.append(\"win\")"
   ]
  },
  {
   "cell_type": "code",
   "execution_count": 4,
   "metadata": {},
   "outputs": [],
   "source": [
    "# len(selected_columns)"
   ]
  },
  {
   "cell_type": "code",
   "execution_count": 5,
   "metadata": {
    "id": "_q9Fyy3b8JWm"
   },
   "outputs": [],
   "source": [
    "# df = pd.read_csv('content/LookingFoward_data_avg_d3_2.csv')"
   ]
  },
  {
   "cell_type": "code",
   "execution_count": 6,
   "metadata": {
    "colab": {
     "base_uri": "https://localhost:8080/",
     "height": 424
    },
    "id": "4NNMlmqxD4i1",
    "outputId": "70e48ea9-7538-4a57-8144-356813f125fd"
   },
   "outputs": [],
   "source": [
    "# df[selected_columns]"
   ]
  },
  {
   "cell_type": "code",
   "execution_count": 7,
   "metadata": {
    "id": "nYvZhqJ7mLmO"
   },
   "outputs": [],
   "source": [
    "# df[selected_columns].to_csv('content/Looki.csv', index=False)"
   ]
  },
  {
   "cell_type": "code",
   "execution_count": 8,
   "metadata": {
    "id": "wnbftuzd8xLG"
   },
   "outputs": [],
   "source": [
    "# data = df[selected_columns]"
   ]
  },
  {
   "cell_type": "code",
   "execution_count": 9,
   "metadata": {},
   "outputs": [],
   "source": [
    "# data"
   ]
  },
  {
   "cell_type": "code",
   "execution_count": 10,
   "metadata": {},
   "outputs": [],
   "source": [
    "import pandas as pd\n",
    "import numpy as np\n",
    "from sklearn.model_selection import train_test_split\n",
    "from tensorflow.keras.models import Sequential\n",
    "from tensorflow.keras.layers import Dense, Dropout\n",
    "from tensorflow.keras.utils import to_categorical\n",
    "from sklearn.preprocessing import StandardScaler\n",
    "\n",
    "# 讀取訓練與測試資料集\n",
    "train_data_path = 'pre_and_pos/pre_train_data_avg2.csv'\n",
    "test_data_path = 'pre_and_pos/pos_test_data_avg2.csv'\n",
    "\n",
    "train_data = pd.read_csv(train_data_path)\n",
    "test_data = pd.read_csv(test_data_path)\n"
   ]
  },
  {
   "cell_type": "code",
   "execution_count": 11,
   "metadata": {},
   "outputs": [],
   "source": [
    "train_data = train_data[selected_columns]\n",
    "test_data = test_data[selected_columns]"
   ]
  },
  {
   "cell_type": "code",
   "execution_count": 12,
   "metadata": {},
   "outputs": [
    {
     "data": {
      "text/plain": [
       "('pre_and_pos_T/X_test.csv',\n",
       " 'pre_and_pos_T/y_test.csv',\n",
       " 'pre_and_pos_T/X_train.csv',\n",
       " 'pre_and_pos_T/y_train.csv')"
      ]
     },
     "execution_count": 12,
     "metadata": {},
     "output_type": "execute_result"
    }
   ],
   "source": [
    "\n",
    "# 確認每個比賽有 30 行數據\n",
    "num_rows_per_game = 30\n",
    "\n",
    "# 初始化空列表來存放合併後的資料\n",
    "def process_data(data):\n",
    "    merged_data = []\n",
    "    for i in range(0, len(data), num_rows_per_game):\n",
    "        block = data.iloc[i:i+num_rows_per_game]\n",
    "        gameid = block['gameid'].iloc[0]\n",
    "        win = block['win'].iloc[0]\n",
    "        team = block['team'].iloc[:15].unique()[0]\n",
    "        opp_team = block['team'].iloc[15:].unique()[0]\n",
    "        row_data = [gameid]\n",
    "        for _, row in block.iterrows():\n",
    "            row_data.extend(row.drop(['gameid', 'team', 'win']))\n",
    "        row_data.extend([team, opp_team, win])\n",
    "        merged_data.append(row_data)\n",
    "    return pd.DataFrame(merged_data)\n",
    "\n",
    "# 處理訓練和測試資料\n",
    "test_merged_df = process_data(train_data)\n",
    "train_merged_df = process_data(test_data)\n",
    "\n",
    "# 設置適當的欄位名稱\n",
    "column_names = ['gameid']\n",
    "for player_num in range(1, num_rows_per_game + 1):\n",
    "    for col in train_data.columns:\n",
    "        if col not in ['gameid', 'team', 'win']:\n",
    "            column_names.append(f'{col}_player_{player_num}')\n",
    "column_names.extend(['team', 'opp_team', 'win'])\n",
    "\n",
    "test_merged_df.columns = column_names\n",
    "train_merged_df.columns = column_names\n",
    "\n",
    "# 保存合併後的資料為CSV\n",
    "test_merged_df.to_csv('merged_roll_drop_flat_test.csv', index=False)\n",
    "train_merged_df.to_csv('merged_roll_drop_flat_train.csv', index=False)\n",
    "\n",
    "# 準備特徵向量和目標變數\n",
    "X_test = np.array(test_merged_df.drop(columns=['win']))\n",
    "y_test = np.where(test_merged_df['win'] == 'TRUE', 1, 0)\n",
    "y_test = to_categorical(y_test, 2)\n",
    "\n",
    "X_train = np.array(train_merged_df.drop(columns=['win']))\n",
    "y_train = np.where(train_merged_df['win'] == 'TRUE', 1, 0)\n",
    "y_train = to_categorical(y_train, 2)\n",
    "\n",
    "# 返回處理後的數據\n",
    "X_test_df = pd.DataFrame(X_test, columns=test_merged_df.drop(columns=['win']).columns)\n",
    "y_test_df = pd.DataFrame(y_test, columns=['Loss', 'Win'])\n",
    "X_train_df = pd.DataFrame(X_train, columns=train_merged_df.drop(columns=['win']).columns)\n",
    "y_train_df = pd.DataFrame(y_train, columns=['Loss', 'Win'])\n",
    "\n",
    "X_test_df.to_csv('pre_and_pos_T/X_test.csv', index=False)\n",
    "y_test_df.to_csv('pre_and_pos_T/y_test.csv', index=False)\n",
    "X_train_df.to_csv('pre_and_pos_T/X_train.csv', index=False)\n",
    "y_train_df.to_csv('pre_and_pos_T/y_train.csv', index=False)\n",
    "\n",
    "'pre_and_pos_T/X_test.csv', 'pre_and_pos_T/y_test.csv', 'pre_and_pos_T/X_train.csv', 'pre_and_pos_T/y_train.csv'\n"
   ]
  },
  {
   "cell_type": "code",
   "execution_count": 13,
   "metadata": {},
   "outputs": [],
   "source": [
    "# data.gameid"
   ]
  },
  {
   "cell_type": "code",
   "execution_count": 14,
   "metadata": {
    "id": "RocD_T0KXjwc"
   },
   "outputs": [],
   "source": [
    "# import pandas as pd\n",
    "\n",
    "\n",
    "# # 確認每個比賽有 30 行數據\n",
    "# num_rows_per_game = 30\n",
    "\n",
    "# # 初始化空列表來存放合併後的資料\n",
    "# merged_data = []\n",
    "\n",
    "# # 用range來遍歷資料集，每次處理30行\n",
    "# for i in range(0, len(data), num_rows_per_game):\n",
    "#     # 取出當前30行\n",
    "#     block = data.iloc[i:i+num_rows_per_game]\n",
    "\n",
    "#     # 取出第一行的gameid, home, win\n",
    "#     gameid = block['gameid'].iloc[0]\n",
    "#     win = block['win'].iloc[0]\n",
    "\n",
    "#     # 前15行為team, 後15行為opp_team\n",
    "#     team = block['team'].iloc[:15].unique()[0]  # 取出前15行的team (假設都是同一隊)\n",
    "#     opp_team = block['team'].iloc[15:].unique()[0]  # 取出後15行的team作為opp_team\n",
    "\n",
    "#     # 把gameid放在合併的第一個欄位\n",
    "#     row_data = [gameid]\n",
    "\n",
    "#     # 將30行展平成一行，跳過 gameid、team、home、win 這些欄位\n",
    "#     for _, row in block.iterrows():\n",
    "#         row_data.extend(row.drop(['gameid', 'team', 'win']))\n",
    "\n",
    "#     # 在最後添加 team, opp_team, home, win\n",
    "#     row_data.extend([team, opp_team, win])\n",
    "\n",
    "#     # 將展平的一行加入到結果列表\n",
    "#     merged_data.append(row_data)\n",
    "\n",
    "# # 創建合併後的DataFrame\n",
    "# merged_df = pd.DataFrame(merged_data)\n",
    "\n",
    "# # 為新DataFrame設置適當的欄位名稱\n",
    "# column_names = ['gameid']\n",
    "# for player_num in range(1, num_rows_per_game + 1):\n",
    "#     for col in data.columns:\n",
    "#         if col not in ['gameid', 'team', 'win']:  # 跳過這些欄位的名稱\n",
    "#             column_names.append(f'{col}_player_{player_num}')\n",
    "\n",
    "# # 添加 team, opp_team, home, win 的欄位名\n",
    "# column_names.extend(['team', 'opp_team', 'win'])\n",
    "\n",
    "# # 設定新的欄位名稱\n",
    "# merged_df.columns = column_names\n",
    "\n",
    "# # 保存合併後的資料為CSV\n",
    "# merged_df.to_csv('merged_roll_drop_flat.csv', index=False)"
   ]
  },
  {
   "cell_type": "code",
   "execution_count": 15,
   "metadata": {
    "colab": {
     "base_uri": "https://localhost:8080/",
     "height": 444
    },
    "id": "WI6IjnSGYxSE",
    "outputId": "33ce5914-774b-450d-a933-4769dd0ecdc9"
   },
   "outputs": [],
   "source": [
    "# merged_df"
   ]
  },
  {
   "cell_type": "code",
   "execution_count": 16,
   "metadata": {
    "id": "y-cQTdspPspW"
   },
   "outputs": [],
   "source": [
    "shape = 1444"
   ]
  },
  {
   "cell_type": "code",
   "execution_count": 17,
   "metadata": {
    "id": "20wcJ7wJHGvq"
   },
   "outputs": [],
   "source": [
    "# merged_df = merged_df.drop(index=merged_df.index[:80])"
   ]
  },
  {
   "cell_type": "code",
   "execution_count": 18,
   "metadata": {
    "colab": {
     "base_uri": "https://localhost:8080/",
     "height": 444
    },
    "id": "iKZbmNw1eIDy",
    "outputId": "7de38ea0-7793-4cda-92aa-f5d743b97f03"
   },
   "outputs": [],
   "source": [
    "# merged_df"
   ]
  },
  {
   "cell_type": "code",
   "execution_count": 19,
   "metadata": {
    "id": "f63LypB75Bj7"
   },
   "outputs": [],
   "source": [
    "# 將每場比賽中的所有球員數據合併成一個特徵向量\n",
    "# X = []\n",
    "# y = []"
   ]
  },
  {
   "cell_type": "code",
   "execution_count": 20,
   "metadata": {
    "id": "tQok_eN98u1w"
   },
   "outputs": [],
   "source": [
    "# y = np.array(merged_df['win'])\n",
    "\n",
    "# # 勝負\n",
    "# y = np.where(y == 'TRUE', 1, 0)\n",
    "# y = to_categorical(y, 2)"
   ]
  },
  {
   "cell_type": "code",
   "execution_count": 21,
   "metadata": {
    "colab": {
     "base_uri": "https://localhost:8080/",
     "height": 424
    },
    "id": "8_22ahhF5Ney",
    "outputId": "a8c85d82-7f93-49a4-e038-09c6e342e50c"
   },
   "outputs": [],
   "source": [
    "# X = np.array(merged_df.drop(columns=['win']))\n",
    "# X = pd.DataFrame(X)\n",
    "# X"
   ]
  },
  {
   "cell_type": "code",
   "execution_count": 22,
   "metadata": {
    "id": "3M_9U6Gk8v-X"
   },
   "outputs": [],
   "source": [
    "# Y = pd.DataFrame(y)"
   ]
  },
  {
   "cell_type": "code",
   "execution_count": 23,
   "metadata": {
    "colab": {
     "base_uri": "https://localhost:8080/",
     "height": 424
    },
    "id": "P5nzh3Gp8w2S",
    "outputId": "ddb6f77f-e442-4958-b4a5-19ca9da854d8"
   },
   "outputs": [],
   "source": [
    "# Y"
   ]
  },
  {
   "cell_type": "code",
   "execution_count": 24,
   "metadata": {
    "id": "Mb8_3-vB2T-d"
   },
   "outputs": [],
   "source": [
    "# X_train, X_test, y_train, y_test = train_test_split(X, Y, test_size=0.3, shuffle = False)\n",
    "# X_train_df = pd.DataFrame(X_train)\n",
    "# X_train_df.to_csv('content/X_trainA.csv', index=False)"
   ]
  },
  {
   "cell_type": "code",
   "execution_count": 25,
   "metadata": {
    "colab": {
     "base_uri": "https://localhost:8080/",
     "height": 424
    },
    "id": "toa7gd4d2T-d",
    "outputId": "0b363948-bbc9-476c-afb4-9284c1bcbc89"
   },
   "outputs": [
    {
     "data": {
      "text/plain": [
       "array([[ 4.2200101e+07,  2.0311400e+05,  8.0000000e+00, ...,\n",
       "         0.0000000e+00,  1.7000000e+01,  1.6000000e+01],\n",
       "       [ 4.2200102e+07,  2.0311400e+05,  5.0000000e+00, ...,\n",
       "         0.0000000e+00,  1.7000000e+01,  1.6000000e+01],\n",
       "       [ 4.2200103e+07,  2.0271000e+05, -7.0000000e+00, ...,\n",
       "         0.0000000e+00,  1.6000000e+01,  1.7000000e+01],\n",
       "       ...,\n",
       "       [ 5.2200131e+07,  1.6305300e+06,  8.0000000e+00, ...,\n",
       "         0.0000000e+00,  1.9000000e+01,  2.1000000e+01],\n",
       "       [ 5.2200201e+07,  2.0271000e+05, -6.5000000e+00, ...,\n",
       "         0.0000000e+00,  1.6000000e+01,  5.0000000e+00],\n",
       "       [ 5.2200211e+07,  1.6296380e+06,  4.5000000e+00, ...,\n",
       "         0.0000000e+00,  1.8000000e+01,  2.1000000e+01]])"
      ]
     },
     "execution_count": 25,
     "metadata": {},
     "output_type": "execute_result"
    }
   ],
   "source": [
    "X_train"
   ]
  },
  {
   "cell_type": "code",
   "execution_count": 26,
   "metadata": {
    "colab": {
     "base_uri": "https://localhost:8080/",
     "height": 424
    },
    "id": "i2bcyZ-A2T-e",
    "outputId": "59650d55-9360-48bc-a5af-9738a138075e"
   },
   "outputs": [
    {
     "data": {
      "text/plain": [
       "array([[ 2.2200001e+07,  1.6277590e+06,  0.0000000e+00, ...,\n",
       "         0.0000000e+00,  3.0000000e+00,  2.3000000e+01],\n",
       "       [ 2.2200002e+07,  2.0395200e+05,  0.0000000e+00, ...,\n",
       "         0.0000000e+00,  1.0000000e+01,  1.4000000e+01],\n",
       "       [ 2.2200003e+07,  1.6301800e+06,  0.0000000e+00, ...,\n",
       "         0.0000000e+00,  9.0000000e+00,  2.2000000e+01],\n",
       "       ...,\n",
       "       [ 2.2201228e+07,  1.6290200e+06,  2.5000000e+00, ...,\n",
       "         0.0000000e+00,  1.4000000e+01,  2.9000000e+01],\n",
       "       [ 2.2201229e+07,  1.6290060e+06,  5.0000000e-01, ...,\n",
       "         2.4000000e+01,  2.4000000e+01,  1.3000000e+01],\n",
       "       [ 2.2201230e+07,  1.6314660e+06, -4.5000000e+00, ...,\n",
       "         0.0000000e+00,  2.5000000e+01,  1.0000000e+01]])"
      ]
     },
     "execution_count": 26,
     "metadata": {},
     "output_type": "execute_result"
    }
   ],
   "source": [
    "X_test"
   ]
  },
  {
   "cell_type": "code",
   "execution_count": 27,
   "metadata": {
    "colab": {
     "base_uri": "https://localhost:8080/",
     "height": 424
    },
    "id": "Y0_NqnFF2T-e",
    "outputId": "6cef4b2b-1981-4f9c-870e-1abf7f504c65"
   },
   "outputs": [
    {
     "data": {
      "text/plain": [
       "array([[1., 0.],\n",
       "       [0., 1.],\n",
       "       [0., 1.],\n",
       "       [0., 1.],\n",
       "       [1., 0.],\n",
       "       [0., 1.],\n",
       "       [0., 1.],\n",
       "       [0., 1.],\n",
       "       [1., 0.],\n",
       "       [1., 0.],\n",
       "       [1., 0.],\n",
       "       [0., 1.],\n",
       "       [0., 1.],\n",
       "       [1., 0.],\n",
       "       [1., 0.],\n",
       "       [1., 0.],\n",
       "       [0., 1.],\n",
       "       [0., 1.],\n",
       "       [0., 1.],\n",
       "       [1., 0.],\n",
       "       [0., 1.],\n",
       "       [0., 1.],\n",
       "       [1., 0.],\n",
       "       [0., 1.],\n",
       "       [0., 1.],\n",
       "       [1., 0.],\n",
       "       [0., 1.],\n",
       "       [0., 1.],\n",
       "       [0., 1.],\n",
       "       [0., 1.],\n",
       "       [0., 1.],\n",
       "       [0., 1.],\n",
       "       [0., 1.],\n",
       "       [0., 1.],\n",
       "       [0., 1.],\n",
       "       [1., 0.],\n",
       "       [1., 0.],\n",
       "       [1., 0.],\n",
       "       [1., 0.],\n",
       "       [0., 1.],\n",
       "       [1., 0.],\n",
       "       [1., 0.],\n",
       "       [0., 1.],\n",
       "       [1., 0.],\n",
       "       [0., 1.],\n",
       "       [0., 1.],\n",
       "       [0., 1.],\n",
       "       [0., 1.],\n",
       "       [0., 1.],\n",
       "       [1., 0.],\n",
       "       [0., 1.],\n",
       "       [1., 0.],\n",
       "       [0., 1.],\n",
       "       [1., 0.],\n",
       "       [1., 0.],\n",
       "       [0., 1.],\n",
       "       [0., 1.],\n",
       "       [0., 1.],\n",
       "       [0., 1.],\n",
       "       [0., 1.],\n",
       "       [0., 1.],\n",
       "       [1., 0.],\n",
       "       [1., 0.],\n",
       "       [0., 1.],\n",
       "       [0., 1.],\n",
       "       [0., 1.],\n",
       "       [0., 1.],\n",
       "       [0., 1.],\n",
       "       [1., 0.],\n",
       "       [1., 0.],\n",
       "       [0., 1.],\n",
       "       [1., 0.],\n",
       "       [0., 1.],\n",
       "       [1., 0.],\n",
       "       [1., 0.],\n",
       "       [0., 1.],\n",
       "       [0., 1.],\n",
       "       [1., 0.],\n",
       "       [1., 0.],\n",
       "       [0., 1.],\n",
       "       [1., 0.],\n",
       "       [1., 0.],\n",
       "       [1., 0.],\n",
       "       [0., 1.],\n",
       "       [1., 0.],\n",
       "       [1., 0.],\n",
       "       [0., 1.],\n",
       "       [1., 0.],\n",
       "       [0., 1.],\n",
       "       [0., 1.]], dtype=float32)"
      ]
     },
     "execution_count": 27,
     "metadata": {},
     "output_type": "execute_result"
    }
   ],
   "source": [
    "y_train"
   ]
  },
  {
   "cell_type": "code",
   "execution_count": 28,
   "metadata": {
    "colab": {
     "base_uri": "https://localhost:8080/",
     "height": 424
    },
    "id": "JIdhmqY42T-e",
    "outputId": "abe068a9-5440-4903-c06e-1e5f5020cb95"
   },
   "outputs": [
    {
     "data": {
      "text/plain": [
       "array([[0., 1.],\n",
       "       [0., 1.],\n",
       "       [0., 1.],\n",
       "       ...,\n",
       "       [0., 1.],\n",
       "       [1., 0.],\n",
       "       [1., 0.]], dtype=float32)"
      ]
     },
     "execution_count": 28,
     "metadata": {},
     "output_type": "execute_result"
    }
   ],
   "source": [
    "y_test"
   ]
  },
  {
   "cell_type": "code",
   "execution_count": 29,
   "metadata": {
    "id": "G26M1BSV8ydn"
   },
   "outputs": [],
   "source": [
    "from sklearn.preprocessing import MinMaxScaler\n",
    "# 標準化\n",
    "scaler = MinMaxScaler()\n",
    "X_train = scaler.fit_transform(X_train)\n",
    "X_test = scaler.transform(X_test)"
   ]
  },
  {
   "cell_type": "code",
   "execution_count": 30,
   "metadata": {
    "colab": {
     "base_uri": "https://localhost:8080/"
    },
    "id": "v3Kcn_n8I7Nj",
    "outputId": "307dfa35-992e-474a-ee8d-d4fffa47f3e0"
   },
   "outputs": [
    {
     "name": "stdout",
     "output_type": "stream",
     "text": [
      "[[-1.99998800e+00  9.98040574e-01  5.36585366e-01 ...  0.00000000e+00\n",
      "   7.40740741e-02  8.80000000e-01]\n",
      " [-1.99998790e+00  1.66761139e-03  5.36585366e-01 ...  0.00000000e+00\n",
      "   3.33333333e-01  5.20000000e-01]\n",
      " [-1.99998780e+00  9.99734778e-01  5.36585366e-01 ...  0.00000000e+00\n",
      "   2.96296296e-01  8.40000000e-01]\n",
      " ...\n",
      " [-1.99986530e+00  9.98923016e-01  5.97560976e-01 ...  0.00000000e+00\n",
      "   4.81481481e-01  1.12000000e+00]\n",
      " [-1.99986520e+00  9.98913218e-01  5.48780488e-01 ...  1.00000000e+00\n",
      "   8.51851852e-01  4.80000000e-01]\n",
      " [-1.99986510e+00  1.00063471e+00  4.26829268e-01 ...  0.00000000e+00\n",
      "   8.88888889e-01  3.60000000e-01]]\n"
     ]
    }
   ],
   "source": [
    "print(X_test)"
   ]
  },
  {
   "cell_type": "code",
   "execution_count": 31,
   "metadata": {},
   "outputs": [
    {
     "name": "stdout",
     "output_type": "stream",
     "text": [
      "(1230, 1443)\n"
     ]
    }
   ],
   "source": [
    "print(X_test.shape)"
   ]
  },
  {
   "cell_type": "code",
   "execution_count": 32,
   "metadata": {
    "colab": {
     "base_uri": "https://localhost:8080/"
    },
    "id": "IcMfxJjz2T-e",
    "outputId": "55366eaf-72f8-4beb-8aaa-1151e5a60b39"
   },
   "outputs": [
    {
     "name": "stdout",
     "output_type": "stream",
     "text": [
      "[[1. 0.]\n",
      " [0. 1.]\n",
      " [0. 1.]\n",
      " [0. 1.]\n",
      " [1. 0.]\n",
      " [0. 1.]\n",
      " [0. 1.]\n",
      " [0. 1.]\n",
      " [1. 0.]\n",
      " [1. 0.]\n",
      " [1. 0.]\n",
      " [0. 1.]\n",
      " [0. 1.]\n",
      " [1. 0.]\n",
      " [1. 0.]\n",
      " [1. 0.]\n",
      " [0. 1.]\n",
      " [0. 1.]\n",
      " [0. 1.]\n",
      " [1. 0.]\n",
      " [0. 1.]\n",
      " [0. 1.]\n",
      " [1. 0.]\n",
      " [0. 1.]\n",
      " [0. 1.]\n",
      " [1. 0.]\n",
      " [0. 1.]\n",
      " [0. 1.]\n",
      " [0. 1.]\n",
      " [0. 1.]\n",
      " [0. 1.]\n",
      " [0. 1.]\n",
      " [0. 1.]\n",
      " [0. 1.]\n",
      " [0. 1.]\n",
      " [1. 0.]\n",
      " [1. 0.]\n",
      " [1. 0.]\n",
      " [1. 0.]\n",
      " [0. 1.]\n",
      " [1. 0.]\n",
      " [1. 0.]\n",
      " [0. 1.]\n",
      " [1. 0.]\n",
      " [0. 1.]\n",
      " [0. 1.]\n",
      " [0. 1.]\n",
      " [0. 1.]\n",
      " [0. 1.]\n",
      " [1. 0.]\n",
      " [0. 1.]\n",
      " [1. 0.]\n",
      " [0. 1.]\n",
      " [1. 0.]\n",
      " [1. 0.]\n",
      " [0. 1.]\n",
      " [0. 1.]\n",
      " [0. 1.]\n",
      " [0. 1.]\n",
      " [0. 1.]\n",
      " [0. 1.]\n",
      " [1. 0.]\n",
      " [1. 0.]\n",
      " [0. 1.]\n",
      " [0. 1.]\n",
      " [0. 1.]\n",
      " [0. 1.]\n",
      " [0. 1.]\n",
      " [1. 0.]\n",
      " [1. 0.]\n",
      " [0. 1.]\n",
      " [1. 0.]\n",
      " [0. 1.]\n",
      " [1. 0.]\n",
      " [1. 0.]\n",
      " [0. 1.]\n",
      " [0. 1.]\n",
      " [1. 0.]\n",
      " [1. 0.]\n",
      " [0. 1.]\n",
      " [1. 0.]\n",
      " [1. 0.]\n",
      " [1. 0.]\n",
      " [0. 1.]\n",
      " [1. 0.]\n",
      " [1. 0.]\n",
      " [0. 1.]\n",
      " [1. 0.]\n",
      " [0. 1.]\n",
      " [0. 1.]]\n"
     ]
    }
   ],
   "source": [
    "print(y_train)"
   ]
  },
  {
   "cell_type": "code",
   "execution_count": 33,
   "metadata": {
    "id": "FcLXhMPeJvWw"
   },
   "outputs": [],
   "source": [
    "X_shape = shape-1"
   ]
  },
  {
   "cell_type": "code",
   "execution_count": 34,
   "metadata": {
    "colab": {
     "base_uri": "https://localhost:8080/"
    },
    "id": "s767iOqG81ib",
    "outputId": "2d9e59e6-dfa2-4472-b1ac-bdf5495fe8b4"
   },
   "outputs": [
    {
     "name": "stdout",
     "output_type": "stream",
     "text": [
      "Epoch 1/30\n",
      "3/3 [==============================] - 7s 8ms/step - loss: 0.8064 - accuracy: 0.4111\n",
      "Epoch 2/30\n",
      "3/3 [==============================] - 0s 47ms/step - loss: 0.8023 - accuracy: 0.4111\n",
      "Epoch 3/30\n",
      "3/3 [==============================] - 0s 8ms/step - loss: 0.7503 - accuracy: 0.4333\n",
      "Epoch 4/30\n",
      "3/3 [==============================] - 0s 8ms/step - loss: 0.7875 - accuracy: 0.4333\n",
      "Epoch 5/30\n",
      "3/3 [==============================] - 0s 10ms/step - loss: 0.7130 - accuracy: 0.4778\n",
      "Epoch 6/30\n",
      "3/3 [==============================] - 0s 9ms/step - loss: 0.7360 - accuracy: 0.4556\n",
      "Epoch 7/30\n",
      "3/3 [==============================] - 0s 14ms/step - loss: 0.6866 - accuracy: 0.5778\n",
      "Epoch 8/30\n",
      "3/3 [==============================] - 0s 8ms/step - loss: 0.7251 - accuracy: 0.4556\n",
      "Epoch 9/30\n",
      "3/3 [==============================] - 0s 11ms/step - loss: 0.7003 - accuracy: 0.5111\n",
      "Epoch 10/30\n",
      "3/3 [==============================] - 0s 9ms/step - loss: 0.6924 - accuracy: 0.5333\n",
      "Epoch 11/30\n",
      "3/3 [==============================] - 0s 9ms/step - loss: 0.6855 - accuracy: 0.5556\n",
      "Epoch 12/30\n",
      "3/3 [==============================] - 0s 9ms/step - loss: 0.7238 - accuracy: 0.5444\n",
      "Epoch 13/30\n",
      "3/3 [==============================] - 0s 9ms/step - loss: 0.6243 - accuracy: 0.6667\n",
      "Epoch 14/30\n",
      "3/3 [==============================] - 0s 8ms/step - loss: 0.7124 - accuracy: 0.5667\n",
      "Epoch 15/30\n",
      "3/3 [==============================] - 0s 9ms/step - loss: 0.6985 - accuracy: 0.5667\n",
      "Epoch 16/30\n",
      "3/3 [==============================] - 0s 11ms/step - loss: 0.7039 - accuracy: 0.6000\n",
      "Epoch 17/30\n",
      "3/3 [==============================] - 0s 10ms/step - loss: 0.6874 - accuracy: 0.5556\n",
      "Epoch 18/30\n",
      "3/3 [==============================] - 0s 9ms/step - loss: 0.7064 - accuracy: 0.5667\n",
      "Epoch 19/30\n",
      "3/3 [==============================] - 0s 13ms/step - loss: 0.6938 - accuracy: 0.5333\n",
      "Epoch 20/30\n",
      "3/3 [==============================] - 0s 9ms/step - loss: 0.7355 - accuracy: 0.5333\n",
      "Epoch 21/30\n",
      "3/3 [==============================] - 0s 11ms/step - loss: 0.6728 - accuracy: 0.5778\n",
      "Epoch 22/30\n",
      "3/3 [==============================] - 0s 21ms/step - loss: 0.6961 - accuracy: 0.5333\n",
      "Epoch 23/30\n",
      "3/3 [==============================] - 0s 8ms/step - loss: 0.6781 - accuracy: 0.5222\n",
      "Epoch 24/30\n",
      "3/3 [==============================] - 0s 8ms/step - loss: 0.6490 - accuracy: 0.6556\n",
      "Epoch 25/30\n",
      "3/3 [==============================] - 0s 9ms/step - loss: 0.6089 - accuracy: 0.7111\n",
      "Epoch 26/30\n",
      "3/3 [==============================] - 0s 9ms/step - loss: 0.6077 - accuracy: 0.6889\n",
      "Epoch 27/30\n",
      "3/3 [==============================] - 0s 7ms/step - loss: 0.5416 - accuracy: 0.7667\n",
      "Epoch 28/30\n",
      "3/3 [==============================] - 0s 8ms/step - loss: 0.5414 - accuracy: 0.7444\n",
      "Epoch 29/30\n",
      "3/3 [==============================] - 0s 11ms/step - loss: 0.4836 - accuracy: 0.8222\n",
      "Epoch 30/30\n",
      "3/3 [==============================] - 0s 21ms/step - loss: 0.4269 - accuracy: 0.8556\n",
      "模型准确性: 0.520\n"
     ]
    }
   ],
   "source": [
    "import tensorflow as tf\n",
    "from tensorflow.keras.models import Sequential\n",
    "from tensorflow.keras.layers import LSTM, Dense, Dropout\n",
    "from keras.layers import GRU, Conv1D, Attention\n",
    "dropout_rate = 0.2\n",
    "\n",
    "# Reshape the input data correctly\n",
    "X_train = X_train.reshape(X_train.shape[0], 1, X_shape)  # (samples, time steps, features)\n",
    "X_test = X_test.reshape(X_test.shape[0], 1, X_shape)    # (samples, time steps, features)\n",
    "\n",
    "model = tf.keras.models.Sequential([\n",
    "    LSTM(80, activation=tf.nn.tanh, return_sequences=True, input_shape=(1, X_shape)), # Correct input shape\n",
    "    Dropout(dropout_rate),\n",
    "    LSTM(60, activation=tf.nn.tanh, return_sequences=True),\n",
    "    Dropout(dropout_rate),\n",
    "    GRU(units=60, return_sequences=True),\n",
    "    Dropout(dropout_rate),\n",
    "    LSTM(40, activation=tf.nn.tanh),\n",
    "    Dropout(dropout_rate),\n",
    "    Dense(20, activation=tf.nn.sigmoid),\n",
    "    Dropout(dropout_rate),\n",
    "    Dense(2, activation=tf.nn.softmax)\n",
    "])\n",
    "\n",
    "model.compile(optimizer='adam', loss='categorical_crossentropy', metrics=['accuracy'])\n",
    "\n",
    "# 训练模型\n",
    "model.fit(X_train, y_train, epochs=30, batch_size=32)\n",
    "\n",
    "# 评估模型\n",
    "loss, accuracy = model.evaluate(X_test, y_test, verbose=0)\n",
    "\n",
    "print(f\"模型准确性: {accuracy:.3f}\")"
   ]
  },
  {
   "cell_type": "code",
   "execution_count": 35,
   "metadata": {},
   "outputs": [],
   "source": [
    "ModelSave = \"modelGUR_avg_2\""
   ]
  },
  {
   "cell_type": "code",
   "execution_count": 36,
   "metadata": {
    "colab": {
     "base_uri": "https://localhost:8080/"
    },
    "id": "spsdvH-F2T-f",
    "outputId": "f165b970-6915-4fa7-802c-b4a1b70743e1"
   },
   "outputs": [],
   "source": [
    "# 保存模型到指定的文件路徑\n",
    "model.save(ModelSave + '.h5')\n",
    "\n",
    "# 保存模型架構到 JSON 格式\n",
    "model_json = model.to_json()\n",
    "with open(ModelSave + '.h5''.json', 'w') as json_file:\n",
    "    json_file.write(model_json)"
   ]
  },
  {
   "cell_type": "code",
   "execution_count": 37,
   "metadata": {
    "id": "IuUDoDULL0RV"
   },
   "outputs": [],
   "source": [
    "model.save(ModelSave + '.keras')\n"
   ]
  },
  {
   "cell_type": "code",
   "execution_count": 38,
   "metadata": {
    "colab": {
     "base_uri": "https://localhost:8080/",
     "height": 581
    },
    "id": "2XVzUeWMef-L",
    "outputId": "b7b72d19-9f57-4a2f-dfe8-59751c665b5c"
   },
   "outputs": [
    {
     "name": "stdout",
     "output_type": "stream",
     "text": [
      "39/39 [==============================] - 2s 3ms/step\n"
     ]
    },
    {
     "data": {
      "image/png": "[encoded data removed]",
      "text/plain": [
       "<Figure size 800x600 with 2 Axes>"
      ]
     },
     "metadata": {},
     "output_type": "display_data"
    }
   ],
   "source": [
    "import numpy as np\n",
    "import matplotlib.pyplot as plt\n",
    "import seaborn as sns\n",
    "from sklearn.metrics import confusion_matrix\n",
    "from tensorflow.keras.utils import to_categorical\n",
    "# 1. 使用模型進行預測\n",
    "y_pred_probs = model.predict(X_test)  # 預測的機率\n",
    "y_pred = np.argmax(y_pred_probs, axis=1)  # 將預測的機率轉換為類別\n",
    "\n",
    "# 2. 確保 y_test 是標籤（如果它是 one-hot 編碼的，需要轉換）\n",
    "if y_test.shape[1] > 0:  # 如果 y_test 是 one-hot 編碼\n",
    "    y_test_labels = np.argmax(y_test, axis=1)\n",
    "else:\n",
    "    y_test_labels = y_test\n",
    "\n",
    "# 3. 計算混淆矩陣\n",
    "cm = confusion_matrix(y_test_labels, y_pred)\n",
    "\n",
    "# 4. 繪製混淆矩陣\n",
    "plt.figure(figsize=(8, 6))\n",
    "sns.heatmap(cm, annot=True, fmt=\"d\", cmap=\"Blues\", xticklabels=[\"lose\", \"win\"], yticklabels=[\"lose\", \"win\"])\n",
    "plt.xlabel(\"Predicted label\")\n",
    "plt.ylabel(\"True label\")\n",
    "plt.title(\"Confusion matrix after calibration\")\n",
    "plt.show()"
   ]
  },
  {
   "cell_type": "code",
   "execution_count": 39,
   "metadata": {
    "colab": {
     "base_uri": "https://localhost:8080/",
     "height": 222
    },
    "id": "hQU4g-xkekda",
    "outputId": "cda32b06-8124-4276-e867-b05cf38c9b94"
   },
   "outputs": [
    {
     "ename": "AttributeError",
     "evalue": "'numpy.ndarray' object has no attribute 'values'",
     "output_type": "error",
     "traceback": [
      "\u001b[1;31m---------------------------------------------------------------------------\u001b[0m",
      "\u001b[1;31mAttributeError\u001b[0m                            Traceback (most recent call last)",
      "Cell \u001b[1;32mIn[39], line 73\u001b[0m\n\u001b[0;32m     70\u001b[0m keras_clf \u001b[38;5;241m=\u001b[39m KerasClassifier(model)\n\u001b[0;32m     72\u001b[0m \u001b[38;5;66;03m# Convert y_train to 1D for CalibratedClassifierCV\u001b[39;00m\n\u001b[1;32m---> 73\u001b[0m y_train_1d \u001b[38;5;241m=\u001b[39m np\u001b[38;5;241m.\u001b[39margmax(\u001b[43my_train\u001b[49m\u001b[38;5;241;43m.\u001b[39;49m\u001b[43mvalues\u001b[49m, axis\u001b[38;5;241m=\u001b[39m\u001b[38;5;241m1\u001b[39m)  \u001b[38;5;66;03m# Assuming y_train is a DataFrame\u001b[39;00m\n\u001b[0;32m     75\u001b[0m calibrated_model \u001b[38;5;241m=\u001b[39m CalibratedClassifierCV(keras_clf, method\u001b[38;5;241m=\u001b[39m\u001b[38;5;124m'\u001b[39m\u001b[38;5;124msigmoid\u001b[39m\u001b[38;5;124m'\u001b[39m, cv\u001b[38;5;241m=\u001b[39m\u001b[38;5;241m5\u001b[39m)\n\u001b[0;32m     76\u001b[0m calibrated_model\u001b[38;5;241m.\u001b[39mfit(X_train, y_train_1d)  \u001b[38;5;66;03m# Use the 1D target array\u001b[39;00m\n",
      "\u001b[1;31mAttributeError\u001b[0m: 'numpy.ndarray' object has no attribute 'values'"
     ]
    }
   ],
   "source": [
    "import tensorflow as tf\n",
    "from tensorflow.keras.models import Sequential\n",
    "from tensorflow.keras.layers import LSTM, Dense, Dropout\n",
    "from sklearn.calibration import CalibratedClassifierCV\n",
    "from sklearn.metrics import brier_score_loss, accuracy_score, confusion_matrix\n",
    "from sklearn.base import clone, BaseEstimator, ClassifierMixin # Import BaseEstimator and ClassifierMixin\n",
    "import matplotlib.pyplot as plt\n",
    "import seaborn as sns\n",
    "import numpy as np\n",
    "\n",
    "\n",
    "# ... (Your existing code for model creation and training) ...\n",
    "\n",
    "# Update KerasClassifier to inherit from BaseEstimator and ClassifierMixin and implement clone method\n",
    "class KerasClassifier(BaseEstimator, ClassifierMixin):\n",
    "    def __init__(self, model):\n",
    "        self.model = model\n",
    "        self.classes_ = [0, 1]  # Add this line to define classes_\n",
    "\n",
    "    def predict_proba(self, X):\n",
    "        # Ensure X has the correct shape for the LSTM model\n",
    "        X = X.reshape(X.shape[0], 1, X_shape)\n",
    "\n",
    "        # Get raw predictions\n",
    "        y_pred = self.model.predict(X)\n",
    "\n",
    "        # Assuming binary classification, return probabilities\n",
    "        return y_pred\n",
    "\n",
    "    def predict(self, X):\n",
    "        # Get probabilities\n",
    "        probs = self.predict_proba(X)\n",
    "\n",
    "        # Return the class with the highest probability\n",
    "        return np.argmax(probs, axis=1)\n",
    "\n",
    "    def fit(self, X, y):\n",
    "        # This is a dummy fit method. The model is assumed to be already trained.\n",
    "        # If you need to re-train, implement the logic here.\n",
    "        # Manually set classes_ during fit\n",
    "        self.classes_ = np.unique(y)  # Add this line\n",
    "        pass\n",
    "\n",
    "    def get_params(self, deep=True):\n",
    "        # Return a dictionary of the model's parameters\n",
    "        # (This may need to be adjusted depending on your specific TensorFlow model)\n",
    "        return {}\n",
    "\n",
    "    def set_params(self, **parameters):\n",
    "        # Update the model's parameters\n",
    "        # (This may need to be adjusted depending on your specific TensorFlow model)\n",
    "        for parameter, value in parameters.items():\n",
    "            setattr(self, parameter, value)\n",
    "        return self\n",
    "\n",
    "    # Implement the clone method for KerasClassifier\n",
    "    def __sklearn_clone__(self, make_deep=False):\n",
    "        \"\"\"\n",
    "        Since `clone` doesn't know how to handle custom classes like `KerasClassifier`,\n",
    "        we implement a custom `__sklearn_clone__` method to handle the cloning process.\n",
    "\n",
    "        This method creates a new instance of `KerasClassifier` with the same model.\n",
    "        \"\"\"\n",
    "        new_classifier = type(self)(self.model) # Pass the model during instantiation\n",
    "        return new_classifier\n",
    "\n",
    "# ... (Your existing code for model creation and training) ...\n",
    "\n",
    "# Now you can use the wrapper in CalibratedClassifierCV\n",
    "keras_clf = KerasClassifier(model)\n",
    "\n",
    "# Convert y_train to 1D for CalibratedClassifierCV\n",
    "y_train_1d = np.argmax(y_train.values, axis=1)  # Assuming y_train is a DataFrame\n",
    "\n",
    "calibrated_model = CalibratedClassifierCV(keras_clf, method='sigmoid', cv=5)\n",
    "calibrated_model.fit(X_train, y_train_1d)  # Use the 1D target array\n"
   ]
  },
  {
   "cell_type": "code",
   "execution_count": null,
   "metadata": {
    "colab": {
     "base_uri": "https://localhost:8080/"
    },
    "id": "lDU0n6GOeoAK",
    "outputId": "d71e41bf-73a1-4638-f640-6cb255caad72"
   },
   "outputs": [
    {
     "name": "stdout",
     "output_type": "stream",
     "text": [
      "6/6 [==============================] - 0s 8ms/step\n",
      "6/6 [==============================] - 0s 39ms/step\n",
      "6/6 [==============================] - 0s 12ms/step\n",
      "6/6 [==============================] - 0s 9ms/step\n",
      "6/6 [==============================] - 0s 9ms/step\n",
      "12/12 [==============================] - 0s 14ms/step\n",
      "12/12 [==============================] - 0s 7ms/step\n",
      "12/12 [==============================] - 0s 20ms/step\n",
      "12/12 [==============================] - 0s 11ms/step\n",
      "12/12 [==============================] - 0s 8ms/step\n",
      "12/12 [==============================] - 0s 18ms/step\n",
      "12/12 [==============================] - 0s 14ms/step\n",
      "12/12 [==============================] - 0s 11ms/step\n",
      "12/12 [==============================] - 0s 6ms/step\n",
      "12/12 [==============================] - 0s 3ms/step\n",
      "校準後的準確率: 0.5349462365591398\n",
      "Brier 損失分數: 0.3253910186951863\n"
     ]
    }
   ],
   "source": [
    "# Now you can use the wrapper in CalibratedClassifierCV\n",
    "keras_clf = KerasClassifier(model)\n",
    "\n",
    "# Convert y_train to 1D for CalibratedClassifierCV\n",
    "y_train_1d = np.argmax(y_train.values, axis=1)  # Assuming y_train is a DataFrame\n",
    "\n",
    "calibrated_model = CalibratedClassifierCV(keras_clf, method='sigmoid', cv=5)\n",
    "calibrated_model.fit(X_train, y_train_1d)  # Use the 1D target array\n",
    "\n",
    "\n",
    "\n",
    "# ... (Rest of your code) ...\n",
    "\n",
    "# 獲取校準後的預測概率\n",
    "y_prob_calibrated = calibrated_model.predict_proba(X_test)[:, 1]\n",
    "\n",
    "# 進行預測並評估模型\n",
    "y_pred_calibrated = calibrated_model.predict(X_test)\n",
    "\n",
    "# Convert y_test to binary format if it's in multilabel-indicator format\n",
    "# Assuming y_test is a DataFrame or a 2D NumPy array\n",
    "y_test_binary = np.argmax(y_test.values, axis=1)\n",
    "cm = confusion_matrix(y_test_binary, y_pred_calibrated)\n",
    "# Now calculate accuracy with consistent formats\n",
    "accuracy = accuracy_score(y_test_binary, y_pred_calibrated)\n",
    "brier_score = brier_score_loss(y_test_binary, y_prob_calibrated) # y_prob_calibrated is expected to be for the positive class\n",
    "\n",
    "\n",
    "print(f\"校準後的準確率: {accuracy}\")\n",
    "print(f\"Brier 損失分數: {brier_score}\")\n"
   ]
  },
  {
   "cell_type": "code",
   "execution_count": null,
   "metadata": {
    "colab": {
     "base_uri": "https://localhost:8080/",
     "height": 718
    },
    "id": "m2iZGG9JepjO",
    "outputId": "4a83cc91-49b6-4e9e-ab4d-0c3fb9c32bf5"
   },
   "outputs": [
    {
     "data": {
      "image/png": "[encoded data removed]",
      "text/plain": [
       "<Figure size 1000x800 with 1 Axes>"
      ]
     },
     "metadata": {},
     "output_type": "display_data"
    }
   ],
   "source": [
    "# 畫出校準曲線\n",
    "from sklearn.calibration import calibration_curve\n",
    "\n",
    "plt.figure(figsize=(10, 8))\n",
    "# ... (Rest of your code) ...\n",
    "\n",
    "# Convert y_test to 1D for calibration_curve using argmax\n",
    "y_test_1d = np.argmax(y_test.values, axis=1)  # Assuming y_test is a DataFrame or a 2D NumPy array\n",
    "\n",
    "# Calculate calibration curve using the 1D version of y_test\n",
    "fraction_of_positives, mean_predicted_value = calibration_curve(y_test_1d, y_prob_calibrated, n_bins=10)\n",
    "\n",
    "# ... (Rest of your code) ...\n",
    "\n",
    "plt.plot(mean_predicted_value, fraction_of_positives, \"s-\", label=\"Calibrated Model\")\n",
    "plt.plot([0, 1], [0, 1], \"k--\", label=\"Perfectly calibrated\")\n",
    "plt.xlabel(\"Mean predicted probability\")\n",
    "plt.ylabel(\"Fraction of positives\")\n",
    "plt.legend()\n",
    "plt.title(\"Calibration plot\")\n",
    "plt.show()"
   ]
  },
  {
   "cell_type": "code",
   "execution_count": null,
   "metadata": {
    "colab": {
     "base_uri": "https://localhost:8080/",
     "height": 564
    },
    "id": "2L1pKwMjerEo",
    "outputId": "2a40c48b-494b-44ba-aec6-87b9f41c12d2"
   },
   "outputs": [
    {
     "data": {
      "image/png": "[encoded data removed]",
      "text/plain": [
       "<Figure size 800x600 with 2 Axes>"
      ]
     },
     "metadata": {},
     "output_type": "display_data"
    }
   ],
   "source": [
    "# 生成混淆矩陣\n",
    "\n",
    "plt.figure(figsize=(8, 6))\n",
    "sns.heatmap(cm, annot=True, fmt=\"d\", cmap=\"Blues\", xticklabels=[\"lose\",\"win\"], yticklabels=[\"lose\",\"win\"])\n",
    "plt.xlabel(\"Predicted label\")\n",
    "plt.ylabel(\"True label\")\n",
    "plt.title(\"Confusion matrix after calibration\")\n",
    "plt.show()"
   ]
  },
  {
   "cell_type": "code",
   "execution_count": null,
   "metadata": {
    "colab": {
     "base_uri": "https://localhost:8080/",
     "height": 715
    },
    "id": "ugPsj8M8esu7",
    "outputId": "5da8a721-ef55-4af1-b03b-b63d4cb9712e"
   },
   "outputs": [
    {
     "name": "stdout",
     "output_type": "stream",
     "text": [
      "12/12 [==============================] - 0s 14ms/step\n",
      "Classification Report:\n",
      "              precision    recall  f1-score   support\n",
      "\n",
      "           0       0.48      0.50      0.49       168\n",
      "           1       0.57      0.55      0.56       204\n",
      "\n",
      "    accuracy                           0.53       372\n",
      "   macro avg       0.52      0.52      0.52       372\n",
      "weighted avg       0.53      0.53      0.53       372\n",
      "\n",
      "Confusion Matrix:\n",
      "[[ 84  84]\n",
      " [ 92 112]]\n"
     ]
    },
    {
     "data": {
      "image/png": "[encoded data removed]",
      "text/plain": [
       "<Figure size 640x480 with 1 Axes>"
      ]
     },
     "metadata": {},
     "output_type": "display_data"
    }
   ],
   "source": [
    "from sklearn.metrics import classification_report, confusion_matrix, roc_auc_score, roc_curve\n",
    "import numpy as np\n",
    "import matplotlib.pyplot as plt\n",
    "\n",
    "# 取得模型預測的概率分數\n",
    "y_pred_prob = model.predict(X_test)\n",
    "\n",
    "# 將概率轉換為類別\n",
    "y_pred = np.argmax(y_pred_prob, axis=1)\n",
    "y_test_classes = np.argmax(y_test, axis=1)  # 將 one-hot 編碼轉回類別\n",
    "\n",
    "# 1. 計算分類報告\n",
    "print(\"Classification Report:\")\n",
    "print(classification_report(y_test_classes, y_pred))\n",
    "\n",
    "# 2. 混淆矩陣\n",
    "conf_matrix = confusion_matrix(y_test_classes, y_pred)\n",
    "print(\"Confusion Matrix:\")\n",
    "print(conf_matrix)\n",
    "\n",
    "# 3. 計算ROC和AUC\n",
    "fpr, tpr, _ = roc_curve(y_test_classes, y_pred_prob[:, 1])  # 假設類別1為正類\n",
    "roc_auc = roc_auc_score(y_test_classes, y_pred_prob[:, 1])\n",
    "\n",
    "# 繪製ROC曲線\n",
    "plt.figure()\n",
    "plt.plot(fpr, tpr, color='blue', label=f'ROC curve (AUC = {roc_auc:.2f})')\n",
    "plt.plot([0, 1], [0, 1], color='grey', linestyle='--')\n",
    "plt.xlabel('False Positive Rate')\n",
    "plt.ylabel('True Positive Rate')\n",
    "plt.title('Receiver Operating Characteristic (ROC) Curve')\n",
    "plt.legend(loc=\"lower right\")\n",
    "plt.show()\n"
   ]
  },
  {
   "cell_type": "code",
   "execution_count": null,
   "metadata": {
    "colab": {
     "base_uri": "https://localhost:8080/"
    },
    "id": "2yPn34aMeyBi",
    "outputId": "2e5d23ec-3ef6-4c71-ed2f-e72ec0e5fa58"
   },
   "outputs": [
    {
     "name": "stdout",
     "output_type": "stream",
     "text": [
      "y_train shape: (868, 2)\n",
      "y_test shape: (372, 2)\n"
     ]
    }
   ],
   "source": [
    "# 檢查 y_train 和 y_test 的形狀\n",
    "print(\"y_train shape:\", y_train.shape)\n",
    "print(\"y_test shape:\", y_test.shape)\n"
   ]
  },
  {
   "cell_type": "code",
   "execution_count": null,
   "metadata": {
    "colab": {
     "base_uri": "https://localhost:8080/"
    },
    "id": "92c0Bb_sezWu",
    "outputId": "18549a4a-eef4-4b7d-bf2a-7a062c3a0358"
   },
   "outputs": [],
   "source": [
    "model.save(ModelSave + '.keras')\n",
    "model.save(ModelSave + '.h5')"
   ]
  }
 ],
 "metadata": {
  "accelerator": "GPU",
  "colab": {
   "gpuType": "T4",
   "provenance": []
  },
  "kernelspec": {
   "display_name": "tsfm_conda_env",
   "language": "python",
   "name": "python3"
  },
  "language_info": {
   "codemirror_mode": {
    "name": "ipython",
    "version": 3
   },
   "file_extension": ".py",
   "mimetype": "text/x-python",
   "name": "python",
   "nbconvert_exporter": "python",
   "pygments_lexer": "ipython3",
   "version": "3.10.13"
  }
 },
 "nbformat": 4,
 "nbformat_minor": 0
}
